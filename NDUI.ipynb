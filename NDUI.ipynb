{
 "cells": [
  {
   "cell_type": "code",
   "execution_count": 3,
   "metadata": {},
   "outputs": [],
   "source": [
    "# @Author:Yifang Wang\n",
    "# @Time:Jan 25 2021\n",
    "# @FileName:Automated extraction of urban built-up areas with NDUI using Python and Google Earth Engine"
   ]
  },
  {
   "cell_type": "markdown",
   "metadata": {},
   "source": [
    "## 1.Verify your account"
   ]
  },
  {
   "cell_type": "code",
   "execution_count": null,
   "metadata": {
    "id": "wpza3bOT5vF_"
   },
   "outputs": [],
   "source": [
    "from google.colab import auth\n",
    "auth.authenticate_user()"
   ]
  },
  {
   "cell_type": "code",
   "execution_count": null,
   "metadata": {
    "colab": {
     "base_uri": "https://localhost:8080/"
    },
    "id": "1IoAuuA5ZofY",
    "outputId": "6ddd53ca-abf5-4a8d-b2ea-214eabbbfaf9"
   },
   "outputs": [
    {
     "name": "stdout",
     "output_type": "stream",
     "text": [
      "Mounted at /content/drive\n"
     ]
    }
   ],
   "source": [
    "from google.colab import drive\n",
    "drive.mount('/content/drive')"
   ]
  },
  {
   "cell_type": "code",
   "execution_count": null,
   "metadata": {
    "colab": {
     "base_uri": "https://localhost:8080/"
    },
    "id": "_A-0m2IF6Cm_",
    "outputId": "a68abdde-d4cf-4500-e558-c4fd3573505d",
    "scrolled": true
   },
   "outputs": [
    {
     "name": "stdout",
     "output_type": "stream",
     "text": [
      "To authorize access needed by Earth Engine, open the following URL in a web browser and follow the instructions. If the web browser does not start automatically, please manually browse the URL below.\n",
      "\n",
      "    https://accounts.google.com/o/oauth2/auth?client_id=517222506229-vsmmajv00ul0bs7p89v5m89qs8eb9359.apps.googleusercontent.com&scope=https%3A%2F%2Fwww.googleapis.com%2Fauth%2Fearthengine+https%3A%2F%2Fwww.googleapis.com%2Fauth%2Fdevstorage.full_control&redirect_uri=urn%3Aietf%3Awg%3Aoauth%3A2.0%3Aoob&response_type=code&code_challenge=SLnc4nBERDrfwY3mByqtcAs5PFANPJv3-G7FQQqGOIc&code_challenge_method=S256\n",
      "\n",
      "The authorization workflow will generate a code, which you should paste in the box below. \n",
      "Enter verification code: 4/1AY0e-g7RdkFUUh0kEK8N5Ytdc5Zrh7H8qVspNlRpVVI4m00QO4HFRx_AvPE\n",
      "\n",
      "Successfully saved authorization token.\n"
     ]
    }
   ],
   "source": [
    "import ee\n",
    "ee.Authenticate()\n",
    "ee.Initialize()"
   ]
  },
  {
   "cell_type": "markdown",
   "metadata": {},
   "source": [
    "## 2.import necessary python-packets"
   ]
  },
  {
   "cell_type": "code",
   "execution_count": null,
   "metadata": {
    "colab": {
     "base_uri": "https://localhost:8080/"
    },
    "id": "ZgVlXQKmA1YA",
    "outputId": "9d87c5de-0da5-446a-d318-8e08760601cb"
   },
   "outputs": [
    {
     "name": "stdout",
     "output_type": "stream",
     "text": [
      "Collecting geopandas\n",
      "\u001b[?25l  Downloading https://files.pythonhosted.org/packages/2a/9f/e8a440a993e024c0d3d4e5c7d3346367c50c9a1a3d735caf5ee3bde0aab1/geopandas-0.8.2-py2.py3-none-any.whl (962kB)\n",
      "\u001b[K     |████████████████████████████████| 972kB 4.8MB/s \n",
      "\u001b[?25hRequirement already satisfied: shapely in /usr/local/lib/python3.6/dist-packages (from geopandas) (1.7.1)\n",
      "Collecting fiona\n",
      "\u001b[?25l  Downloading https://files.pythonhosted.org/packages/37/94/4910fd55246c1d963727b03885ead6ef1cd3748a465f7b0239ab25dfc9a3/Fiona-1.8.18-cp36-cp36m-manylinux1_x86_64.whl (14.8MB)\n",
      "\u001b[K     |████████████████████████████████| 14.8MB 245kB/s \n",
      "\u001b[?25hRequirement already satisfied: pandas>=0.23.0 in /usr/local/lib/python3.6/dist-packages (from geopandas) (1.1.5)\n",
      "Collecting pyproj>=2.2.0\n",
      "\u001b[?25l  Downloading https://files.pythonhosted.org/packages/e4/ab/280e80a67cfc109d15428c0ec56391fc03a65857b7727cf4e6e6f99a4204/pyproj-3.0.0.post1-cp36-cp36m-manylinux2010_x86_64.whl (6.4MB)\n",
      "\u001b[K     |████████████████████████████████| 6.5MB 49.6MB/s \n",
      "\u001b[?25hRequirement already satisfied: click<8,>=4.0 in /usr/local/lib/python3.6/dist-packages (from fiona->geopandas) (7.1.2)\n",
      "Requirement already satisfied: six>=1.7 in /usr/local/lib/python3.6/dist-packages (from fiona->geopandas) (1.15.0)\n",
      "Collecting munch\n",
      "  Downloading https://files.pythonhosted.org/packages/cc/ab/85d8da5c9a45e072301beb37ad7f833cd344e04c817d97e0cc75681d248f/munch-2.5.0-py2.py3-none-any.whl\n",
      "Requirement already satisfied: certifi in /usr/local/lib/python3.6/dist-packages (from fiona->geopandas) (2020.12.5)\n",
      "Collecting click-plugins>=1.0\n",
      "  Downloading https://files.pythonhosted.org/packages/e9/da/824b92d9942f4e472702488857914bdd50f73021efea15b4cad9aca8ecef/click_plugins-1.1.1-py2.py3-none-any.whl\n",
      "Collecting cligj>=0.5\n",
      "  Downloading https://files.pythonhosted.org/packages/42/1e/947eadf10d6804bf276eb8a038bd5307996dceaaa41cfd21b7a15ec62f5d/cligj-0.7.1-py3-none-any.whl\n",
      "Requirement already satisfied: attrs>=17 in /usr/local/lib/python3.6/dist-packages (from fiona->geopandas) (20.3.0)\n",
      "Requirement already satisfied: python-dateutil>=2.7.3 in /usr/local/lib/python3.6/dist-packages (from pandas>=0.23.0->geopandas) (2.8.1)\n",
      "Requirement already satisfied: numpy>=1.15.4 in /usr/local/lib/python3.6/dist-packages (from pandas>=0.23.0->geopandas) (1.19.5)\n",
      "Requirement already satisfied: pytz>=2017.2 in /usr/local/lib/python3.6/dist-packages (from pandas>=0.23.0->geopandas) (2018.9)\n",
      "Installing collected packages: munch, click-plugins, cligj, fiona, pyproj, geopandas\n",
      "Successfully installed click-plugins-1.1.1 cligj-0.7.1 fiona-1.8.18 geopandas-0.8.2 munch-2.5.0 pyproj-3.0.0.post1\n",
      "Collecting PyShp\n",
      "\u001b[?25l  Downloading https://files.pythonhosted.org/packages/38/85/fbf87e7aa55103e0d06af756bdbc15cf821fa580414c23142d60a35d4f85/pyshp-2.1.3.tar.gz (219kB)\n",
      "\u001b[K     |████████████████████████████████| 225kB 6.0MB/s \n",
      "\u001b[?25hBuilding wheels for collected packages: PyShp\n",
      "  Building wheel for PyShp (setup.py) ... \u001b[?25l\u001b[?25hdone\n",
      "  Created wheel for PyShp: filename=pyshp-2.1.3-cp36-none-any.whl size=37264 sha256=3f91405c5fefe8738b14f17f654cec7fc060daaf0a027ba44a363a6590fd013c\n",
      "  Stored in directory: /root/.cache/pip/wheels/76/2b/d4/53e6b9a0fb0a9f9f29664cf82605af8bc81d5ab44d987896dd\n",
      "Successfully built PyShp\n",
      "Installing collected packages: PyShp\n",
      "Successfully installed PyShp-2.1.3\n",
      "Requirement already satisfied: gdal in /usr/lib/python3/dist-packages (2.2.2)\n"
     ]
    }
   ],
   "source": [
    "try:\n",
    "    import geopandas as gpd\n",
    "    import shapefile\n",
    "    from osgeo import ogr,osr,gdal\n",
    "except:\n",
    "    !pip install geopandas\n",
    "    !pip install PyShp\n",
    "    !pip install gdal\n",
    "import geopandas as gpd\n",
    "import shapefile\n",
    "import numpy as np\n",
    "import os\n",
    "import time\n",
    "from osgeo import ogr,osr,gdal\n",
    "import tensorflow as tf"
   ]
  },
  {
   "cell_type": "markdown",
   "metadata": {},
   "source": [
    "## 3.Compute NDUI"
   ]
  },
  {
   "cell_type": "code",
   "execution_count": null,
   "metadata": {
    "id": "ZkCbt6F1I1Yn"
   },
   "outputs": [],
   "source": [
    "F101992 = ee.Image('NOAA/DMSP-OLS/NIGHTTIME_LIGHTS/F101992').select('stable_lights')\n",
    "F101993 = ee.Image('NOAA/DMSP-OLS/NIGHTTIME_LIGHTS/F101993').select('stable_lights')\n",
    "F101994 = ee.Image('NOAA/DMSP-OLS/NIGHTTIME_LIGHTS/F101994').select('stable_lights')\n",
    "F121994 = ee.Image('NOAA/DMSP-OLS/NIGHTTIME_LIGHTS/F121994').select('stable_lights')\n",
    "F121995 = ee.Image('NOAA/DMSP-OLS/NIGHTTIME_LIGHTS/F121995').select('stable_lights')\n",
    "F121996 = ee.Image('NOAA/DMSP-OLS/NIGHTTIME_LIGHTS/F121996').select('stable_lights')\n",
    "F121997 = ee.Image('NOAA/DMSP-OLS/NIGHTTIME_LIGHTS/F121997').select('stable_lights')\n",
    "F121998 = ee.Image('NOAA/DMSP-OLS/NIGHTTIME_LIGHTS/F121998').select('stable_lights')\n",
    "F121999 = ee.Image('NOAA/DMSP-OLS/NIGHTTIME_LIGHTS/F121999').select('stable_lights')\n",
    "F141997 = ee.Image('NOAA/DMSP-OLS/NIGHTTIME_LIGHTS/F141997').select('stable_lights')\n",
    "F141998 = ee.Image('NOAA/DMSP-OLS/NIGHTTIME_LIGHTS/F141998').select('stable_lights')\n",
    "F141999 = ee.Image('NOAA/DMSP-OLS/NIGHTTIME_LIGHTS/F141999').select('stable_lights')\n",
    "F142000 = ee.Image('NOAA/DMSP-OLS/NIGHTTIME_LIGHTS/F142000').select('stable_lights')\n",
    "F142001 = ee.Image('NOAA/DMSP-OLS/NIGHTTIME_LIGHTS/F142001').select('stable_lights')\n",
    "F142002 = ee.Image('NOAA/DMSP-OLS/NIGHTTIME_LIGHTS/F142002').select('stable_lights')\n",
    "F142003 = ee.Image('NOAA/DMSP-OLS/NIGHTTIME_LIGHTS/F142003').select('stable_lights')\n",
    "F152000 = ee.Image('NOAA/DMSP-OLS/NIGHTTIME_LIGHTS/F152000').select('stable_lights')\n",
    "F152001 = ee.Image('NOAA/DMSP-OLS/NIGHTTIME_LIGHTS/F152001').select('stable_lights')\n",
    "F152002 = ee.Image('NOAA/DMSP-OLS/NIGHTTIME_LIGHTS/F152002').select('stable_lights')\n",
    "F152003 = ee.Image('NOAA/DMSP-OLS/NIGHTTIME_LIGHTS/F152003').select('stable_lights')\n",
    "F152004 = ee.Image('NOAA/DMSP-OLS/NIGHTTIME_LIGHTS/F152004').select('stable_lights')\n",
    "F152005 = ee.Image('NOAA/DMSP-OLS/NIGHTTIME_LIGHTS/F152005').select('stable_lights')\n",
    "F152006 = ee.Image('NOAA/DMSP-OLS/NIGHTTIME_LIGHTS/F152006').select('stable_lights')\n",
    "F152007 = ee.Image('NOAA/DMSP-OLS/NIGHTTIME_LIGHTS/F152007').select('stable_lights')\n",
    "F162004 = ee.Image('NOAA/DMSP-OLS/NIGHTTIME_LIGHTS/F162004').select('stable_lights')\n",
    "F162005 = ee.Image('NOAA/DMSP-OLS/NIGHTTIME_LIGHTS/F162005').select('stable_lights')\n",
    "F162006 = ee.Image('NOAA/DMSP-OLS/NIGHTTIME_LIGHTS/F162006').select('stable_lights')\n",
    "F162007 = ee.Image('NOAA/DMSP-OLS/NIGHTTIME_LIGHTS/F162007').select('stable_lights')\n",
    "F162008 = ee.Image('NOAA/DMSP-OLS/NIGHTTIME_LIGHTS/F162008').select('stable_lights')\n",
    "F162009 = ee.Image('NOAA/DMSP-OLS/NIGHTTIME_LIGHTS/F162009').select('stable_lights')\n",
    "F182010 = ee.Image('NOAA/DMSP-OLS/NIGHTTIME_LIGHTS/F182010').select('stable_lights')\n",
    "F182011 = ee.Image('NOAA/DMSP-OLS/NIGHTTIME_LIGHTS/F182011').select('stable_lights')\n",
    "F182012 = ee.Image('NOAA/DMSP-OLS/NIGHTTIME_LIGHTS/F182012').select('stable_lights')\n",
    "\n",
    "collections = [F101992, F101993, F101994, F121994, F121995, F121996, F121997, F121998, F121999, F141997, F141998, \n",
    "                    F141999, F142000, F142001,F142002, F142003, F152000, F152001, F152002, F152003, F152004, F152005, \n",
    "                    F152006, F152007,F162004, F162005, F162006, F162007, F162008, F162009, F182010, F182011, F182012]\n",
    "\n",
    "c = [-3.06516, -2.0638, -1.68421, -1.71621, 0.530922, 0.303469, -0.18513, 0.490138, 1.800988, -0.6186,\n",
    "         -0.91352, -1.37993, 0.061872, 0.249452, 1.127103, 0.866522,0, 0.005164,-0.04462, -0.27189, -0.06977, 0.449229,\n",
    "         0.913485, 0.644785, -0.02563, -0.54115, -0.38377, 0.629564, 0.745403, -0.15161, 6.22332, 1.427157, 3.866698]\n",
    "         \n",
    "b = [-0.00698, -0.00726, -0.00695, -0.00454, 0.00011, -0.00176, -0.00057, 0.001236, 0.002969, -0.0094, \n",
    "     -0.00929, -0.00889, -0.00469, -0.00452, -0.00221, -0.00351, 0, 8.94e-05, 0.000117, -0.0085, -0.00912, -0.00601,\n",
    "     -0.00595, -0.00675, -0.00496, -0.0094, -0.0061, -0.00084, -0.00062, -0.00278, 0.014627,0.002877, 0.007962]\n",
    "     \n",
    "a = [1.519907, 1.516595, 1.491333, 1.331971, 0.984465, 1.111207, 1.034429, 0.905787, 0.761106, 1.603921,\n",
    "      1.603648, 1.586457, 1.294471, 1.275902, 1.128708, 1.206319, 1, 1.002879, 0.987943, 1.555808, 1.591033, 1.401146, \n",
    "      1.381139,1.448976, 1.317581, 1.613536, 1.41435, 1.040815, 1.037042, 1.193437, -0.08536, 0.774923, 0.355542]\n",
    "\n",
    "images = [0 for _ in range(33)]\n",
    "count = 0\n",
    "total_list = []\n",
    "images_correct = [0 for _ in range(33)]\n",
    "\n",
    "def fun3(raw,correct):\n",
    "    out = correct.where(raw.lt(5.0),raw.float())\n",
    "    return out\n",
    "\n",
    "for i in range(33):\n",
    "    images[i] = ee.Image(a[i]).multiply(collections[i].float()).add(ee.Image(b[i]).multiply(collections[i].float().pow(2))).add(ee.Image(c[i]))\n",
    "    images_correct[i] = fun3(collections[i],images[i]).select('constant')"
   ]
  },
  {
   "cell_type": "code",
   "execution_count": null,
   "metadata": {
    "id": "tHS3XKhJI1WV"
   },
   "outputs": [],
   "source": [
    "China_city = ee.FeatureCollection('users/keithw0777/city_CN')\n",
    "L7 = ee.ImageCollection('LE7_L1T_TOA').filterDate('2010-01-01', '2012-12-31')\n",
    "OUTPUT_BUCKET='ndui_city' # define the storage bucket name \n",
    "def fun4(img):\n",
    "    bad1 = img.select('B1').eq(0.0)\n",
    "    bad2 = img.select('B2').eq(0.0)\n",
    "    bad3 = img.select('B3').eq(0.0)\n",
    "    bad4 = img.select('B4').eq(0.0)\n",
    "    bad5 = img.select('B5').eq(0.0)\n",
    "    bad7 = img.select('B7').eq(0.0)\n",
    "    mask = img.mask().And(bad1.Or(bad2).Or(bad3).Or(bad4).Or(bad5).Or(bad7).Not())\n",
    "    #var mask = img.select('10','20','30','40','50','70').mask().reduce('product').eq(1);\n",
    "    masked = img.mask(mask);\n",
    "    ndvi = masked.normalizedDifference([\"B4\",\"B3\"])\n",
    "    return ndvi\n",
    "\n",
    "NDVIs = L7.map(fun4)\n",
    "\n",
    "Mean_NDVI = NDVIs.median()\n",
    "Max_NDVI = NDVIs.max()\n",
    "Min_NDVI = NDVIs.min()\n",
    "mosaic = Mean_NDVI.where(Max_NDVI.gt(0.4), Max_NDVI)\n",
    "mosaic = mosaic.where(Min_NDVI.lt(-0.2), Min_NDVI)\n",
    "\n",
    "F182012 = images_correct[32]\n",
    "normalizeF182012 = F182012.toFloat().divide(63.0)\n",
    "diff = normalizeF182012.add(mosaic.multiply(-1.0))\n",
    "sum = normalizeF182012.add(mosaic)"
   ]
  },
  {
   "cell_type": "code",
   "execution_count": null,
   "metadata": {
    "id": "1dVJb9WMI1Rl"
   },
   "outputs": [],
   "source": [
    "def filter_city_ndui(city):\n",
    "    \"\"\"\n",
    "    city:广州市\n",
    "    \"\"\"\n",
    "    city_shape = China_city.filter(ee.Filter.eq('市',city))\n",
    "    ndui = diff.divide(sum).clip(city_shape)\n",
    "    mask1 = Mean_NDVI.gt(0.0)\n",
    "    mask2 = ndui.gt(0.0)\n",
    "    ndui_mask = ndui.updateMask(mask1.And(mask2))\n",
    "    #二进制\n",
    "    bin_mask = mask1.bitwiseAnd(mask2).clip(city_shape)\n",
    "    return city_shape,ndui_mask,bin_mask"
   ]
  },
  {
   "cell_type": "code",
   "execution_count": null,
   "metadata": {
    "id": "N4p5aTqa2oOG"
   },
   "outputs": [],
   "source": [
    "def export_task(image_mask,city_shape,file_name):\n",
    "    task = ee.batch.Export.image.toCloudStorage(\n",
    "    image=image_mask,\n",
    "    description='Training Export',\n",
    "    fileNamePrefix=file_name,\n",
    "    bucket=OUTPUT_BUCKET,\n",
    "    scale=30,\n",
    "    region=city_shape.geometry())\n",
    "    return task"
   ]
  },
  {
   "cell_type": "code",
   "execution_count": null,
   "metadata": {
    "id": "j092exl2Drs9"
   },
   "outputs": [],
   "source": [
    "def found_file(file_name,OUTPUT_BUCKET='ndui_city'):\n",
    "    FILE_PATH = 'gs://' + OUTPUT_BUCKET + '/' + file_name+'.tif'\n",
    "    print(FILE_PATH)\n",
    "    print('Found training file.' if tf.io.gfile.exists(FILE_PATH) \n",
    "        else 'No training file found.')"
   ]
  },
  {
   "cell_type": "markdown",
   "metadata": {},
   "source": [
    "## 4.Raster to Vector"
   ]
  },
  {
   "cell_type": "code",
   "execution_count": null,
   "metadata": {
    "id": "1G73SO8WkiUZ"
   },
   "outputs": [],
   "source": [
    "#raster to vector\n",
    "def raster_to_shape(rasterfile,shapefile):\n",
    "    data = gdal.Open(rasterfile, gdal.GA_ReadOnly)\n",
    "    inband = data.GetRasterBand(1)\n",
    "    drv = ogr.GetDriverByName('ESRI Shapefile')\n",
    "    Polygon = drv.CreateDataSource(shapefile)\n",
    "    prj = osr.SpatialReference()\n",
    "    prj.ImportFromWkt(data.GetProjection()) \n",
    "    Polygon_layer = Polygon.CreateLayer(shapefile, srs=prj, geom_type = ogr.wkbMultiPolygon)\n",
    "    newField = ogr.FieldDefn('Value', ogr.OFTInteger)\n",
    "    Polygon_layer.CreateField(newField)\n",
    "    gdal.FPolygonize(inband, None, Polygon_layer, 0)"
   ]
  },
  {
   "cell_type": "code",
   "execution_count": null,
   "metadata": {
    "id": "_OLJl5x1Jwas"
   },
   "outputs": [],
   "source": [
    "def filter_small_area(shape):\n",
    "    for i in range(len(shape)):\n",
    "        if shape.loc[i]['Value'] == 0:\n",
    "            shape.drop([i],axis=0,inplace=True)\n",
    "    shape = shape.sort_values(by='area(/km)',ascending=False)\n",
    "    shape.drop(shape.index[10:],inplace=True)\n",
    "    return shape"
   ]
  },
  {
   "cell_type": "code",
   "execution_count": null,
   "metadata": {
    "id": "NpCJ0XSsOlF0"
   },
   "outputs": [],
   "source": [
    "def uploadToGCP(city_cn,city_name,export_file_name):\n",
    "    \"\"\"\n",
    "    city_CN:'广州市'\n",
    "    city_name:'Guangzhou'\n",
    "    export_file_name:'Guangzhou_city'\n",
    "    \"\"\"\n",
    "    city_shape,city_ndui,city_mask = filter_city_ndui(city_cn)#'深圳市'\n",
    "    task = export_task(city_mask,city_shape,export_file_name)#'shenzhen_city'\n",
    "    task.start()\n",
    "    print(ee.batch.Task.list())\n",
    "    while task.active():\n",
    "        print('Polling for task (id: {}).'.format(task.id))\n",
    "        time.sleep(30)\n",
    "    print('Done with image export.')\n",
    "    if ee.batch.Task.list()[0].status()['state'] == 'FAILED':\n",
    "        print('Upload File Failed,due to '+ee.batch.Task.list()[0].status()['error_message'])\n",
    "    found_file(export_file_name)\n",
    "    drive_file = os.path.join('/content/drive/MyDrive/',city_name)\n",
    "    if not os.path.exists(drive_file):\n",
    "        os.mkdir(drive_file)\n",
    "    gcp_path = 'gs://nduicity_luo/'+export_file_name+'.tif'\n",
    "    print('gcp_path:',gcp_path)\n",
    "    print('drive_file:',drive_file)"
   ]
  },
  {
   "cell_type": "markdown",
   "metadata": {},
   "source": [
    "## 5.Get the built-up areas shapefile"
   ]
  },
  {
   "cell_type": "code",
   "execution_count": null,
   "metadata": {
    "id": "pBr40T6nql9w"
   },
   "outputs": [],
   "source": [
    "def main(city_name,export_file_name):\n",
    "    \"\"\"\n",
    "    city_name:'Guangzhou'\n",
    "    export_file_name:'guangzhou_city'\n",
    "    \"\"\"\n",
    "    raster_to_shape(os.path.join(drive_file,export_file_name+'.tif'),os.path.join(drive_file,export_file_name+'_urban_shape.shp'))\n",
    "    city = gpd.read_file(os.path.join(drive_file,export_file_name+'_urban_shape.shp'))\n",
    "    city = city.to_crs({'init':'epsg:32650'})\n",
    "    city['area(/km)'] = city.apply(lambda row:row.geometry.area/1e6,axis=1)\n",
    "    city1 = filter_small_area(city)\n",
    "    city1.to_file(os.path.join(drive_file,export_file_name+'_urban_Area_big20_To_shape.shp'),driver='ESRI Shapefile',encoding='utf-8')\n",
    "    CITY = gpd.read_file(os.path.join(drive_file,export_file_name+'_urban_Area_big20_To_shape.shp'))\n",
    "    task = ee.batch.Export.image.toCloudStorage(\n",
    "                image=F182012.clip(CITY),\n",
    "                description='Training Export',\n",
    "                fileNamePrefix=file_name,\n",
    "                bucket=OUTPUT_BUCKET,\n",
    "                scale=30,\n",
    "                region=CITY.geometry())\n",
    "    CITY.plot(figsize=(12,6))"
   ]
  },
  {
   "cell_type": "code",
   "execution_count": null,
   "metadata": {
    "id": "FZwBinaprrCH"
   },
   "outputs": [],
   "source": [
    "uploadToGCP('广州市','Guangzhou','Guanghzou_city')"
   ]
  },
  {
   "cell_type": "code",
   "execution_count": null,
   "metadata": {
    "id": "eWsBrOUwrMVC"
   },
   "outputs": [],
   "source": [
    "#!gsutil cp gcp_path drive_file\n",
    "!gsutil cp gs://ndui_city/Guanghzou_city.tif /content/drive/MyDrive/GuangZhouCity"
   ]
  },
  {
   "cell_type": "code",
   "execution_count": null,
   "metadata": {
    "id": "U0k7KVEHryTX"
   },
   "outputs": [],
   "source": [
    "main('Guanghzou','Guanghzou_city')"
   ]
  }
 ],
 "metadata": {
  "colab": {
   "collapsed_sections": [],
   "name": "NDUI_SHP (1).ipynb",
   "provenance": []
  },
  "kernelspec": {
   "display_name": "Python 3",
   "language": "python",
   "name": "python3"
  },
  "language_info": {
   "codemirror_mode": {
    "name": "ipython",
    "version": 3
   },
   "file_extension": ".py",
   "mimetype": "text/x-python",
   "name": "python",
   "nbconvert_exporter": "python",
   "pygments_lexer": "ipython3",
   "version": "3.8.3"
  }
 },
 "nbformat": 4,
 "nbformat_minor": 1
}
